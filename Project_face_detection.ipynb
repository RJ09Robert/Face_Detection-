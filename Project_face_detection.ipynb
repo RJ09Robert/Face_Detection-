{
 "cells": [
  {
   "cell_type": "code",
   "execution_count": 5,
   "id": "35454717-6d05-4c47-86be-6875ae410d84",
   "metadata": {},
   "outputs": [],
   "source": [
    "import numpy as np\n",
    "import cv2"
   ]
  },
  {
   "cell_type": "code",
   "execution_count": 6,
   "id": "b76147fe-8774-4db7-82c9-d3c46811e941",
   "metadata": {},
   "outputs": [],
   "source": [
    "img=cv2.imread(\"./data/faces.jpg\")\n",
    "\n",
    "cv2.imshow(\"face\",img)\n",
    "cv2.waitKey(0)\n",
    "cv2.destroyAllWindows()"
   ]
  },
  {
   "cell_type": "code",
   "execution_count": 7,
   "id": "b04c6d42-82cf-407c-8dc6-0ee36e39e71d",
   "metadata": {},
   "outputs": [],
   "source": [
    "face_cascade=cv2.CascadeClassifier(\"./data/Face detection model/haarcascade_frontalface_default.xml\")"
   ]
  },
  {
   "cell_type": "code",
   "execution_count": 11,
   "id": "c0301d7b-6947-4452-8c2a-d88959599783",
   "metadata": {},
   "outputs": [],
   "source": [
    "def face_detection(img):\n",
    "    image=img.copy()\n",
    "    #step 1 convert image into gray scale\n",
    "    gray=cv2.cvtColor(img,cv2.COLOR_BGR2GRAY)\n",
    "    \n",
    "    #step 2 apply gray scale to cascade classifier\n",
    "    box,detections=face_cascade.detectMultiScale2(gray,minNeighbors=8)\n",
    "    \n",
    "    #step 3 drawing bounding box\n",
    "    for x,y,w,h in box:\n",
    "        cv2.rectangle(image,(x,y),(x+w,y+h),(0,255,0),1)\n",
    "    \n",
    "    return image\n"
   ]
  },
  {
   "cell_type": "code",
   "execution_count": 9,
   "id": "61ba2411-96e2-4403-82ea-68b0b1f1a76d",
   "metadata": {},
   "outputs": [
    {
     "ename": "NameError",
     "evalue": "name 'box' is not defined",
     "output_type": "error",
     "traceback": [
      "\u001b[1;31m---------------------------------------------------------------------------\u001b[0m",
      "\u001b[1;31mNameError\u001b[0m                                 Traceback (most recent call last)",
      "Cell \u001b[1;32mIn[9], line 1\u001b[0m\n\u001b[1;32m----> 1\u001b[0m \u001b[43mbox\u001b[49m  \u001b[38;5;66;03m# x axis y axis width of the face and height of the face\u001b[39;00m\n",
      "\u001b[1;31mNameError\u001b[0m: name 'box' is not defined"
     ]
    }
   ],
   "source": [
    "box  # x axis y axis width of the face and height of the face"
   ]
  },
  {
   "cell_type": "code",
   "execution_count": 18,
   "id": "18b5d2a3-27e6-4ad1-9ca5-893ed96c8605",
   "metadata": {},
   "outputs": [
    {
     "data": {
      "text/plain": [
       "array([10, 37, 35])"
      ]
     },
     "execution_count": 18,
     "metadata": {},
     "output_type": "execute_result"
    }
   ],
   "source": [
    "detections\n"
   ]
  },
  {
   "cell_type": "code",
   "execution_count": 10,
   "id": "2c193da6-8feb-46c0-93a3-513c15aa4fdc",
   "metadata": {},
   "outputs": [],
   "source": [
    "img_detect=face_detection(img)\n",
    "\n",
    "cv2.imshow(\"faces\",img_detect)\n",
    "cv2.waitKey(0)\n",
    "cv2.destroyAllWindows()"
   ]
  },
  {
   "cell_type": "code",
   "execution_count": 22,
   "id": "985f5051-e26e-4fcd-bdce-ae2bd748810c",
   "metadata": {},
   "outputs": [],
   "source": [
    "# real time face detection\n",
    "\n",
    "\n",
    "\n"
   ]
  },
  {
   "cell_type": "code",
   "execution_count": 27,
   "id": "0f76b006-865c-4fc7-a00a-cd7f18728bcb",
   "metadata": {},
   "outputs": [],
   "source": [
    "cap=cv2.VideoCapture(0)\n",
    "\n",
    "face_cascade=cv2.CascadeClassifier(\"./data/Face detection model/haarcascade_frontalface_default.xml\")\n",
    "\n",
    "while True:\n",
    "    ret,frame=cap.read()\n",
    "    if ret==False:\n",
    "        break\n",
    "\n",
    "    img_detect=face_detection(frame)\n",
    "    cv2.imshow(\"face detection\",img_detect)\n",
    "    if cv2.waitKey(1)==ord('d'):\n",
    "        break\n",
    "\n",
    "cap.release()\n",
    "cv2.destroyAllWindows()"
   ]
  },
  {
   "cell_type": "code",
   "execution_count": null,
   "id": "64c2502a-eaa5-41ff-bfc0-e1768c63ab9f",
   "metadata": {},
   "outputs": [],
   "source": []
  }
 ],
 "metadata": {
  "kernelspec": {
   "display_name": "Python 3 (ipykernel)",
   "language": "python",
   "name": "python3"
  },
  "language_info": {
   "codemirror_mode": {
    "name": "ipython",
    "version": 3
   },
   "file_extension": ".py",
   "mimetype": "text/x-python",
   "name": "python",
   "nbconvert_exporter": "python",
   "pygments_lexer": "ipython3",
   "version": "3.11.2"
  }
 },
 "nbformat": 4,
 "nbformat_minor": 5
}
